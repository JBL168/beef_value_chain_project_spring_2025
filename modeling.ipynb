{
 "cells": [
  {
   "cell_type": "code",
   "execution_count": 365,
   "metadata": {},
   "outputs": [],
   "source": [
    "from sklearn.model_selection import train_test_split\n",
    "from sklearn.metrics import mean_absolute_error, mean_squared_error, r2_score\n",
    "from sklearn.ensemble import RandomForestRegressor\n",
    "from sklearn.linear_model import LinearRegression\n",
    "from scipy.stats import spearmanr\n",
    "from statsmodels.tsa.stattools import adfuller\n",
    "from statsmodels.graphics.tsaplots import plot_acf, plot_pacf\n",
    "from statsmodels.tsa.arima.model import ARIMA\n",
    "from xgboost import XGBRegressor\n",
    "import pandas as pd\n",
    "import matplotlib.pyplot as plt\n",
    "import seaborn as sns\n",
    "import plotly.express as px\n",
    "import plotly.graph_objects as go\n",
    "import numpy as np\n",
    "import optuna as ot"
   ]
  },
  {
   "cell_type": "code",
   "execution_count": 366,
   "metadata": {},
   "outputs": [],
   "source": [
    "data = pd.read_csv('aggregated_data.csv')\n",
    "\n",
    "# INFLATION ADJUSTMENT\n",
    "base_cpi = data['CPI_US'].iloc[-1]\n",
    "data['AVG_PRICE_AUCTION'] = data['AVG_PRICE_AUCTION'] * (base_cpi/data['CPI_US'])\n",
    "data['CORN_FUTURES_TYPICAL_PRICE'] = data['CORN_FUTURES_TYPICAL_PRICE'] * (base_cpi/data['CPI_US'])\n",
    "data['FEEDER_CATTLE_FUTURES_TYPICAL_PRICE'] = data['FEEDER_CATTLE_FUTURES_TYPICAL_PRICE'] * (base_cpi/data['CPI_US'])\n",
    "data['US_MXN_RATES'] = data['US_MXN_RATES'] * (base_cpi/data['CPI_US'])\n",
    "data['DIESEL_RETAIL_PRICE'] = data['DIESEL_RETAIL_PRICE'] * (base_cpi/data['CPI_US'])\n",
    "data['DATE'] = pd.to_datetime(data['DATE'])\n",
    "\n",
    "# ['avg_price_steers_ML1', 'avg_price_steers_ML1_2', 'avg_price_heifers_ML1', 'avg_price_heifers_ML1_2', 'CPI_US', 'NATIONAL_AUCTION_SALES','NATIONAL_TOTAL_SALES', 'TEXAS_AUCTION_SALES']\n",
    "data = data.sort_values('DATE', ignore_index=True).set_index('DATE').drop(['avg_price_steers_ML1', 'avg_price_steers_ML1_2', 'avg_price_heifers_ML1', 'avg_price_heifers_ML1_2', 'NATIONAL_AUCTION_SALES','NATIONAL_TOTAL_SALES', 'TEXAS_AUCTION_SALES'], axis=1)\n",
    "# print(data.head())\n"
   ]
  },
  {
   "cell_type": "code",
   "execution_count": 367,
   "metadata": {},
   "outputs": [],
   "source": [
    "def print_metrics(X_test, y_test, y_pred): # Helper function to print model metrics\n",
    "    rf_r2 = r2_score(y_test, y_pred) # R²\n",
    "    print(f'R² Score: {rf_r2}')\n",
    "\n",
    "    n = X_test.shape[0]\n",
    "    k = X_test.shape[1]\n",
    "    adj_r2 = 1-((1-rf_r2)*(n-1)/(n-k-1)) # Adjusted-R²\n",
    "    print(f'Adjusted-R² Score: {adj_r2}')\n",
    "\n",
    "    prcorr = np.corrcoef(y_test, y_pred)[0,1] # Pearson Correlation Coefficient \n",
    "    print(\"Pearson correlation:\", prcorr)\n",
    "\n",
    "    srcorr, p_value = spearmanr(y_test, y_pred) # Spearman’s Rank Correlation\n",
    "    print(\"Spearman correlation:\", srcorr)\n",
    "\n",
    "    rmse = np.sqrt(mean_squared_error(y_test, y_pred)) # RMSE\n",
    "    print(f'Root Mean Squared Error (RMSE): {rmse}')\n",
    "\n",
    "    mae = mean_absolute_error(y_test, y_pred) # MAE\n",
    "    print(f'Mean Absolute Error (MAE): {mae}')"
   ]
  },
  {
   "cell_type": "markdown",
   "metadata": {},
   "source": [
    "## RANDOM FOREST MODEL"
   ]
  },
  {
   "cell_type": "code",
   "execution_count": 368,
   "metadata": {},
   "outputs": [
    {
     "name": "stdout",
     "output_type": "stream",
     "text": [
      "R² Score: -4.065129840627757\n",
      "Adjusted-R² Score: -4.5187235576989\n",
      "Pearson correlation: -0.5421383430544126\n",
      "Spearman correlation: -0.21288191859158784\n",
      "Root Mean Squared Error (RMSE): 33.247231240164425\n",
      "Mean Absolute Error (MAE): 25.119362570084594\n"
     ]
    }
   ],
   "source": [
    "# # CREATE RANDOM FOREST MODEL\n",
    "# X = data.drop(['AVG_PRICE_AUCTION'], axis=1)\n",
    "# y = data['AVG_PRICE_AUCTION']\n",
    "\n",
    "# # SPLIT DATA INTO 80/20 TRAINING TESTING SETS\n",
    "# X_train, X_test, y_train, y_test = train_test_split(X, y, test_size=0.2, random_state=42)\n",
    "\n",
    "train_size = int(len(data) * 0.8)\n",
    "train_data = data.iloc[:train_size]\n",
    "test_data = data.iloc[train_size:]\n",
    "X_train = train_data.drop('AVG_PRICE_AUCTION', axis=1)\n",
    "y_train = train_data['AVG_PRICE_AUCTION']\n",
    "X_test = test_data.drop('AVG_PRICE_AUCTION', axis=1)\n",
    "y_test = test_data['AVG_PRICE_AUCTION']\n",
    "\n",
    "# CREATE AND TRAIN RF REGRESSOR\n",
    "rf_regressor = RandomForestRegressor(n_estimators=100, random_state=42)\n",
    "rf_regressor.fit(X_train, y_train)\n",
    "\n",
    "# MAKE PREDICTIONS ON TEST SET\n",
    "rf_pred = rf_regressor.predict(X_test)\n",
    "\n",
    "# EVALUATING MODEL PERFORMANCE\n",
    "print_metrics(X_test, y_test, rf_pred)"
   ]
  },
  {
   "cell_type": "markdown",
   "metadata": {},
   "source": [
    "## XGBOOST MODEL"
   ]
  },
  {
   "cell_type": "code",
   "execution_count": 369,
   "metadata": {},
   "outputs": [
    {
     "name": "stdout",
     "output_type": "stream",
     "text": [
      "R² Score: -6.037797673434233\n",
      "Adjusted-R² Score: -6.668048211353716\n",
      "Pearson correlation: -0.4322863122348723\n",
      "Spearman correlation: -0.2508497169330155\n",
      "Root Mean Squared Error (RMSE): 39.19029940112609\n",
      "Mean Absolute Error (MAE): 30.649350070335164\n"
     ]
    }
   ],
   "source": [
    "# CREATE AND TRAIN XGBOOST REGRESSOR\n",
    "xgb_reg = XGBRegressor()\n",
    "xgb_reg.fit(X_train, y_train)\n",
    "xgb_pred = xgb_reg.predict(X_test)\n",
    "\n",
    "# EVALUATING MODEL PERFORMANCE\n",
    "print_metrics(X_test, y_test, xgb_pred)"
   ]
  },
  {
   "cell_type": "markdown",
   "metadata": {},
   "source": [
    "## LINEAR REGRESSION MODEL"
   ]
  },
  {
   "cell_type": "code",
   "execution_count": 370,
   "metadata": {},
   "outputs": [
    {
     "name": "stdout",
     "output_type": "stream",
     "text": [
      "R² Score: -1.0747181053000974\n",
      "Adjusted-R² Score: -1.2605137565210014\n",
      "Pearson correlation: 0.6415227153267419\n",
      "Spearman correlation: 0.6232802665679377\n",
      "Root Mean Squared Error (RMSE): 21.278437846996813\n",
      "Mean Absolute Error (MAE): 18.041762354218662\n"
     ]
    }
   ],
   "source": [
    "# CREATE AND TRAIN LINEAR REGRESSION MODEL\n",
    "lin_reg = LinearRegression()\n",
    "lin_reg.fit(X_train, y_train)\n",
    "lrg_pred = lin_reg.predict(X_test)\n",
    "\n",
    "# EVALUATING MODEL PERFORMANCE\n",
    "print_metrics(X_test, y_test, lrg_pred)"
   ]
  }
 ],
 "metadata": {
  "kernelspec": {
   "display_name": "Python 3",
   "language": "python",
   "name": "python3"
  },
  "language_info": {
   "codemirror_mode": {
    "name": "ipython",
    "version": 3
   },
   "file_extension": ".py",
   "mimetype": "text/x-python",
   "name": "python",
   "nbconvert_exporter": "python",
   "pygments_lexer": "ipython3",
   "version": "3.10.6"
  }
 },
 "nbformat": 4,
 "nbformat_minor": 2
}
