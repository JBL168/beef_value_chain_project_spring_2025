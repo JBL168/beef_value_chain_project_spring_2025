{
 "cells": [
  {
   "cell_type": "code",
   "execution_count": null,
   "metadata": {},
   "outputs": [
    {
     "name": "stdout",
     "output_type": "stream",
     "text": [
      "2.1.1\n"
     ]
    }
   ],
   "source": [
    "from sklearn.model_selection import train_test_split\n",
    "from sklearn.metrics import mean_absolute_error, mean_squared_error, r2_score\n",
    "from sklearn.ensemble import RandomForestRegressor\n",
    "from sklearn.linear_model import LinearRegression\n",
    "from scipy.stats import spearmanr\n",
    "from statsmodels.tsa.stattools import adfuller\n",
    "from statsmodels.graphics.tsaplots import plot_acf, plot_pacf\n",
    "from statsmodels.tsa.arima.model import ARIMA\n",
    "# from pmdarima.arima import auto_arima\n",
    "# from pmdarima.arima import ADFTest\n",
    "from xgboost import XGBRegressor\n",
    "import pandas as pd\n",
    "import matplotlib.pyplot as plt\n",
    "import seaborn as sns\n",
    "import plotly.express as px\n",
    "import plotly.graph_objects as go\n",
    "import numpy as np\n",
    "import optuna as ot\n",
    "\n",
    "print(np.__version__)"
   ]
  },
  {
   "cell_type": "code",
   "execution_count": 1449,
   "metadata": {},
   "outputs": [],
   "source": [
    "data = pd.read_csv('aggregated_data.csv')\n",
    "\n",
    "# INFLATION ADJUSTMENT\n",
    "base_cpi = data['CPI_US'].iloc[-1]\n",
    "data['AVG_PRICE_AUCTION'] = data['AVG_PRICE_AUCTION'] * (base_cpi/data['CPI_US'])\n",
    "data['CORN_FUTURES_TYPICAL_PRICE'] = data['CORN_FUTURES_TYPICAL_PRICE'] * (base_cpi/data['CPI_US'])\n",
    "data['FEEDER_CATTLE_FUTURES_TYPICAL_PRICE'] = data['FEEDER_CATTLE_FUTURES_TYPICAL_PRICE'] * (base_cpi/data['CPI_US'])\n",
    "data['US_MXN_RATES'] = data['US_MXN_RATES'] * (base_cpi/data['CPI_US'])\n",
    "data['DIESEL_RETAIL_PRICE'] = data['DIESEL_RETAIL_PRICE'] * (base_cpi/data['CPI_US'])\n",
    "data['DATE'] = pd.to_datetime(data['DATE'])\n",
    "\n",
    "# ['avg_price_steers_ML1', 'avg_price_steers_ML1_2', 'avg_price_heifers_ML1', 'avg_price_heifers_ML1_2', 'CPI_US', 'NATIONAL_AUCTION_SALES','NATIONAL_TOTAL_SALES', 'TEXAS_AUCTION_SALES']\n",
    "data = data.sort_values('DATE', ignore_index=True).set_index('DATE').drop(['avg_price_steers_ML1', 'avg_price_steers_ML1_2', 'avg_price_heifers_ML1', 'avg_price_heifers_ML1_2', 'NATIONAL_AUCTION_SALES','NATIONAL_TOTAL_SALES', 'TEXAS_AUCTION_SALES'], axis=1)\n",
    "# print(data.head())\n"
   ]
  },
  {
   "cell_type": "code",
   "execution_count": 1450,
   "metadata": {},
   "outputs": [],
   "source": [
    "def print_metrics(X_test, y_test, y_pred): # Helper function to print model metrics\n",
    "    rf_r2 = r2_score(y_test, y_pred) # R²\n",
    "    print(f'R² Score: {rf_r2}')\n",
    "\n",
    "    # n = X_test.shape[0]\n",
    "    # k = X_test.shape[1]\n",
    "    # adj_r2 = 1-((1-rf_r2)*(n-1)/(n-k-1)) # Adjusted-R²\n",
    "    # print(f'Adjusted-R² Score: {adj_r2}')\n",
    "\n",
    "    prcorr = np.corrcoef(y_test, y_pred)[0,1] # Pearson Correlation Coefficient \n",
    "    print(\"Pearson correlation:\", prcorr)\n",
    "\n",
    "    srcorr, p_value = spearmanr(y_test, y_pred) # Spearman’s Rank Correlation\n",
    "    print(\"Spearman correlation:\", srcorr)\n",
    "\n",
    "    rmse = np.sqrt(mean_squared_error(y_test, y_pred)) # RMSE\n",
    "    print(f'Root Mean Squared Error (RMSE): {rmse}')\n",
    "\n",
    "    mae = mean_absolute_error(y_test, y_pred) # MAE\n",
    "    print(f'Mean Absolute Error (MAE): {mae}')"
   ]
  },
  {
   "cell_type": "markdown",
   "metadata": {},
   "source": [
    "## RANDOM FOREST MODEL"
   ]
  },
  {
   "cell_type": "code",
   "execution_count": 1451,
   "metadata": {},
   "outputs": [
    {
     "name": "stdout",
     "output_type": "stream",
     "text": [
      "R² Score: -3.943770797294584\n",
      "Pearson correlation: -0.5021780690567789\n",
      "Spearman correlation: -0.2531698115427593\n",
      "Root Mean Squared Error (RMSE): 32.846519439939755\n",
      "Mean Absolute Error (MAE): 25.31080373094651\n"
     ]
    }
   ],
   "source": [
    "# # CREATE RANDOM FOREST MODEL\n",
    "# X = data.drop(['AVG_PRICE_AUCTION'], axis=1)\n",
    "# y = data['AVG_PRICE_AUCTION']\n",
    "\n",
    "# # SPLIT DATA INTO 80/20 TRAINING TESTING SETS\n",
    "# X_train, X_test, y_train, y_test = train_test_split(X, y, test_size=0.2, random_state=42)\n",
    "\n",
    "train_size = int(len(data) * 0.8)\n",
    "train_data = data.iloc[:train_size]\n",
    "test_data = data.iloc[train_size:]\n",
    "X_train = train_data.drop('AVG_PRICE_AUCTION', axis=1)\n",
    "y_train = train_data['AVG_PRICE_AUCTION']\n",
    "X_test = test_data.drop('AVG_PRICE_AUCTION', axis=1)\n",
    "y_test = test_data['AVG_PRICE_AUCTION']\n",
    "\n",
    "# CREATE AND TRAIN RF REGRESSOR\n",
    "rf_regressor = RandomForestRegressor(n_estimators=100, random_state=42)\n",
    "rf_regressor.fit(X_train, y_train)\n",
    "\n",
    "# MAKE PREDICTIONS ON TEST SET\n",
    "rf_pred = rf_regressor.predict(X_test)\n",
    "\n",
    "# EVALUATING MODEL PERFORMANCE\n",
    "print_metrics(X_test, y_test, rf_pred)"
   ]
  },
  {
   "cell_type": "markdown",
   "metadata": {},
   "source": [
    "## XGBOOST MODEL"
   ]
  },
  {
   "cell_type": "code",
   "execution_count": 1452,
   "metadata": {},
   "outputs": [
    {
     "name": "stdout",
     "output_type": "stream",
     "text": [
      "R² Score: -5.739373773327673\n",
      "Pearson correlation: -0.4062557068643382\n",
      "Spearman correlation: -0.23637696511493397\n",
      "Root Mean Squared Error (RMSE): 38.350405861960006\n",
      "Mean Absolute Error (MAE): 30.381297084927045\n"
     ]
    }
   ],
   "source": [
    "# CREATE AND TRAIN XGBOOST REGRESSOR\n",
    "xgb_reg = XGBRegressor()\n",
    "xgb_reg.fit(X_train, y_train)\n",
    "xgb_pred = xgb_reg.predict(X_test)\n",
    "\n",
    "# EVALUATING MODEL PERFORMANCE\n",
    "print_metrics(X_test, y_test, xgb_pred)"
   ]
  },
  {
   "cell_type": "markdown",
   "metadata": {},
   "source": [
    "## LINEAR REGRESSION MODEL"
   ]
  },
  {
   "cell_type": "code",
   "execution_count": 1453,
   "metadata": {},
   "outputs": [
    {
     "name": "stdout",
     "output_type": "stream",
     "text": [
      "R² Score: -1.0770318165124269\n",
      "Pearson correlation: 0.6399813715256212\n",
      "Spearman correlation: 0.6205553498704182\n",
      "Root Mean Squared Error (RMSE): 21.29029932396304\n",
      "Mean Absolute Error (MAE): 18.04539038941791\n"
     ]
    }
   ],
   "source": [
    "# CREATE AND TRAIN LINEAR REGRESSION MODEL\n",
    "lin_reg = LinearRegression()\n",
    "lin_reg.fit(X_train, y_train)\n",
    "lrg_pred = lin_reg.predict(X_test)\n",
    "\n",
    "# EVALUATING MODEL PERFORMANCE\n",
    "print_metrics(X_test, y_test, lrg_pred)"
   ]
  },
  {
   "cell_type": "markdown",
   "metadata": {},
   "source": [
    "## ARIMA MODEL"
   ]
  },
  {
   "cell_type": "code",
   "execution_count": null,
   "metadata": {},
   "outputs": [
    {
     "name": "stdout",
     "output_type": "stream",
     "text": [
      "ADF Statistic: 0.619463142449429\n",
      "p-value: 0.9880856655722295\n"
     ]
    },
    {
     "ename": "NameError",
     "evalue": "name 'ADFTest' is not defined",
     "output_type": "error",
     "traceback": [
      "\u001b[1;31m---------------------------------------------------------------------------\u001b[0m",
      "\u001b[1;31mNameError\u001b[0m                                 Traceback (most recent call last)",
      "Cell \u001b[1;32mIn[1454], line 29\u001b[0m\n\u001b[0;32m     26\u001b[0m \u001b[38;5;28mprint\u001b[39m(\u001b[38;5;124mf\u001b[39m\u001b[38;5;124m'\u001b[39m\u001b[38;5;124mADF Statistic: \u001b[39m\u001b[38;5;132;01m{\u001b[39;00madf_test[\u001b[38;5;241m0\u001b[39m]\u001b[38;5;132;01m}\u001b[39;00m\u001b[38;5;124m'\u001b[39m)\n\u001b[0;32m     27\u001b[0m \u001b[38;5;28mprint\u001b[39m(\u001b[38;5;124mf\u001b[39m\u001b[38;5;124m'\u001b[39m\u001b[38;5;124mp-value: \u001b[39m\u001b[38;5;132;01m{\u001b[39;00madf_test[\u001b[38;5;241m1\u001b[39m]\u001b[38;5;132;01m}\u001b[39;00m\u001b[38;5;124m'\u001b[39m)\n\u001b[1;32m---> 29\u001b[0m adf_test2 \u001b[38;5;241m=\u001b[39m \u001b[43mADFTest\u001b[49m(alpha\u001b[38;5;241m=\u001b[39m\u001b[38;5;241m0.05\u001b[39m)\n\u001b[0;32m     30\u001b[0m adf_test2\u001b[38;5;241m.\u001b[39mshould_diff(price_series)\n\u001b[0;32m     32\u001b[0m n \u001b[38;5;241m=\u001b[39m \u001b[38;5;28mlen\u001b[39m(price_series)\n",
      "\u001b[1;31mNameError\u001b[0m: name 'ADFTest' is not defined"
     ]
    }
   ],
   "source": [
    "# freq = pd.infer_freq(data.index)\n",
    "# print('Inferred frequency:', freq)\n",
    "\n",
    "# FIND WHICH DATA POINTS ARE MISSING\n",
    "start_date = data.index.min()\n",
    "end_date = data.index.max()\n",
    "full_index = pd.date_range(start=start_date, end=end_date, freq='W-FRI')\n",
    "missing_dates = full_index.difference(data.index)\n",
    "# print(\"Missing Dates:\")\n",
    "# print(missing_dates)\n",
    "\n",
    "# REINDEX DATA & IMPUTE MISSING VALUES\n",
    "# duplicates = data.index[data.index.duplicated()]\n",
    "# print(\"Duplicate date entries:\\n\", duplicates)\n",
    "arima_data = data.reindex(full_index).interpolate(method='linear')\n",
    "price_series = arima_data['AVG_PRICE_AUCTION']\n",
    "\n",
    "freq = pd.infer_freq(arima_data.index)\n",
    "# print('Inferred frequency:', freq)\n",
    "\n",
    "# PERFORM DIFFERENCING\n",
    "# price_series_diff = price_series.diff().dropna()\n",
    "\n",
    "# CHECK FOR STATIONARY WITH ADF TEST\n",
    "adf_test = adfuller(price_series)\n",
    "print(f'ADF Statistic: {adf_test[0]}')\n",
    "print(f'p-value: {adf_test[1]}')\n",
    "\n",
    "adf_test2 = ADFTest(alpha=0.05)\n",
    "adf_test2.should_diff(price_series)\n",
    "\n",
    "n = len(price_series)\n",
    "train_size = int(n * 0.8)  # 80%\n",
    "\n",
    "train = price_series.iloc[:train_size]\n",
    "test = price_series.iloc[train_size:]\n",
    "\n",
    "\n",
    "# # CREATE AND TRAIN ARIMA MODEL\n",
    "# model = ARIMA(price_series, order=(1,1,1))\n",
    "# model_fit = model.fit()\n",
    "# # print(model_fit.summary())\n",
    "\n",
    "# # FORECAST DATA\n",
    "# forecast_length = len(test)\n",
    "# test_forecast = model_fit.forecast(steps=forecast_length)\n",
    "# test_forecast.index = test.index\n",
    "\n",
    "# print_metrics(arima_data.index, test, test_forecast)"
   ]
  },
  {
   "cell_type": "code",
   "execution_count": null,
   "metadata": {},
   "outputs": [
    {
     "data": {
      "image/png": "[encoded data removed]",
      "text/plain": [
       "<Figure size 1000x500 with 1 Axes>"
      ]
     },
     "metadata": {},
     "output_type": "display_data"
    }
   ],
   "source": [
    "# plt.figure(figsize=(10, 5))\n",
    "# plt.plot(train.index, train, label='Train')\n",
    "# plt.plot(test.index, test, label='Test', color='green')\n",
    "# plt.plot(test_forecast.index, test_forecast, label='Forecast', color='red', linestyle='--')\n",
    "# plt.legend()\n",
    "# plt.show()"
   ]
  },
  {
   "cell_type": "markdown",
   "metadata": {},
   "source": [
    "## DATA VISUALIZATION"
   ]
  },
  {
   "cell_type": "code",
   "execution_count": null,
   "metadata": {},
   "outputs": [
    {
     "data": {
      "application/vnd.plotly.v1+json": {
       "config": {
        "plotlyServerURL": "https://plot.ly"
       },
       "data": [
        {
         "line": {
          "color": "blue"
         },
         "mode": "lines+markers",
         "name": "Historical (Train)",
         "type": "scatter",
         "x": [
          "2017-11-03T00:00:00.000000000",
          "2017-11-10T00:00:00.000000000",
          "2017-11-17T00:00:00.000000000",
          "2017-11-24T00:00:00.000000000",
          "2017-12-01T00:00:00.000000000",
          "2017-12-08T00:00:00.000000000",
          "2017-12-15T00:00:00.000000000",
          "2017-12-22T00:00:00.000000000",
          "2017-12-29T00:00:00.000000000",
          "2018-01-05T00:00:00.000000000",
          "2018-01-12T00:00:00.000000000",
          "2018-01-19T00:00:00.000000000",
          "2018-01-26T00:00:00.000000000",
          "2018-02-02T00:00:00.000000000",
          "2018-02-09T00:00:00.000000000",
          "2018-02-16T00:00:00.000000000",
          "2018-02-23T00:00:00.000000000",
          "2018-03-02T00:00:00.000000000",
          "2018-03-09T00:00:00.000000000",
          "2018-03-16T00:00:00.000000000",
          "2018-03-23T00:00:00.000000000",
          "2018-03-30T00:00:00.000000000",
          "2018-04-06T00:00:00.000000000",
          "2018-04-13T00:00:00.000000000",
          "2018-04-20T00:00:00.000000000",
          "2018-04-27T00:00:00.000000000",
          "2018-05-04T00:00:00.000000000",
          "2018-05-11T00:00:00.000000000",
          "2018-05-18T00:00:00.000000000",
          "2018-05-25T00:00:00.000000000",
          "2018-06-01T00:00:00.000000000",
          "2018-06-08T00:00:00.000000000",
          "2018-06-15T00:00:00.000000000",
          "2018-06-22T00:00:00.000000000",
          "2018-06-29T00:00:00.000000000",
          "2018-07-06T00:00:00.000000000",
          "2018-07-13T00:00:00.000000000",
          "2018-07-20T00:00:00.000000000",
          "2018-07-27T00:00:00.000000000",
          "2018-08-03T00:00:00.000000000",
          "2018-08-10T00:00:00.000000000",
          "2018-08-17T00:00:00.000000000",
          "2018-08-24T00:00:00.000000000",
          "2018-08-31T00:00:00.000000000",
          "2018-09-07T00:00:00.000000000",
          "2018-09-14T00:00:00.000000000",
          "2018-09-21T00:00:00.000000000",
          "2018-09-28T00:00:00.000000000",
          "2018-10-05T00:00:00.000000000",
          "2018-10-12T00:00:00.000000000",
          "2018-10-19T00:00:00.000000000",
          "2018-10-26T00:00:00.000000000",
          "2018-11-02T00:00:00.000000000",
          "2018-11-09T00:00:00.000000000",
          "2018-11-16T00:00:00.000000000",
          "2018-11-23T00:00:00.000000000",
          "2018-11-30T00:00:00.000000000",
          "2018-12-07T00:00:00.000000000",
          "2018-12-14T00:00:00.000000000",
          "2018-12-21T00:00:00.000000000",
          "2019-01-04T00:00:00.000000000",
          "2019-01-11T00:00:00.000000000",
          "2019-01-18T00:00:00.000000000",
          "2019-01-25T00:00:00.000000000",
          "2019-02-01T00:00:00.000000000",
          "2019-02-08T00:00:00.000000000",
          "2019-02-15T00:00:00.000000000",
          "2019-02-22T00:00:00.000000000",
          "2019-03-01T00:00:00.000000000",
          "2019-03-08T00:00:00.000000000",
          "2019-03-15T00:00:00.000000000",
          "2019-03-22T00:00:00.000000000",
          "2019-03-29T00:00:00.000000000",
          "2019-04-05T00:00:00.000000000",
          "2019-04-12T00:00:00.000000000",
          "2019-04-19T00:00:00.000000000",
          "2019-04-26T00:00:00.000000000",
          "2019-05-03T00:00:00.000000000",
          "2019-05-10T00:00:00.000000000",
          "2019-05-17T00:00:00.000000000",
          "2019-05-24T00:00:00.000000000",
          "2019-05-31T00:00:00.000000000",
          "2019-06-07T00:00:00.000000000",
          "2019-06-14T00:00:00.000000000",
          "2019-06-21T00:00:00.000000000",
          "2019-06-28T00:00:00.000000000",
          "2019-07-05T00:00:00.000000000",
          "2019-07-12T00:00:00.000000000",
          "2019-07-19T00:00:00.000000000",
          "2019-07-26T00:00:00.000000000",
          "2019-08-02T00:00:00.000000000",
          "2019-08-09T00:00:00.000000000",
          "2019-08-16T00:00:00.000000000",
          "2019-08-23T00:00:00.000000000",
          "2019-08-30T00:00:00.000000000",
          "2019-09-06T00:00:00.000000000",
          "2019-09-13T00:00:00.000000000",
          "2019-09-20T00:00:00.000000000",
          "2019-09-27T00:00:00.000000000",
          "2019-10-04T00:00:00.000000000",
          "2019-10-11T00:00:00.000000000",
          "2019-10-18T00:00:00.000000000",
          "2019-10-25T00:00:00.000000000",
          "2019-11-01T00:00:00.000000000",
          "2019-11-08T00:00:00.000000000",
          "2019-11-15T00:00:00.000000000",
          "2019-11-22T00:00:00.000000000",
          "2019-11-29T00:00:00.000000000",
          "2019-12-06T00:00:00.000000000",
          "2019-12-13T00:00:00.000000000",
          "2019-12-20T00:00:00.000000000",
          "2019-12-27T00:00:00.000000000",
          "2020-01-03T00:00:00.000000000",
          "2020-01-10T00:00:00.000000000",
          "2020-01-17T00:00:00.000000000",
          "2020-01-24T00:00:00.000000000",
          "2020-01-31T00:00:00.000000000",
          "2020-02-07T00:00:00.000000000",
          "2020-02-14T00:00:00.000000000",
          "2020-02-21T00:00:00.000000000",
          "2020-02-28T00:00:00.000000000",
          "2020-03-06T00:00:00.000000000",
          "2020-03-13T00:00:00.000000000",
          "2020-03-20T00:00:00.000000000",
          "2020-03-27T00:00:00.000000000",
          "2020-04-03T00:00:00.000000000",
          "2020-04-10T00:00:00.000000000",
          "2020-04-17T00:00:00.000000000",
          "2020-04-24T00:00:00.000000000",
          "2020-05-01T00:00:00.000000000",
          "2020-05-08T00:00:00.000000000",
          "2020-05-15T00:00:00.000000000",
          "2020-05-22T00:00:00.000000000",
          "2020-05-29T00:00:00.000000000",
          "2020-06-05T00:00:00.000000000",
          "2020-06-12T00:00:00.000000000",
          "2020-06-19T00:00:00.000000000",
          "2020-06-26T00:00:00.000000000",
          "2020-07-02T00:00:00.000000000",
          "2020-07-10T00:00:00.000000000",
          "2020-07-17T00:00:00.000000000",
          "2020-07-24T00:00:00.000000000",
          "2020-07-31T00:00:00.000000000",
          "2020-08-07T00:00:00.000000000",
          "2020-08-14T00:00:00.000000000",
          "2020-08-21T00:00:00.000000000",
          "2020-08-28T00:00:00.000000000",
          "2020-09-04T00:00:00.000000000",
          "2020-09-11T00:00:00.000000000",
          "2020-09-18T00:00:00.000000000",
          "2020-09-25T00:00:00.000000000",
          "2020-10-02T00:00:00.000000000",
          "2020-10-09T00:00:00.000000000",
          "2020-10-16T00:00:00.000000000",
          "2020-10-23T00:00:00.000000000",
          "2020-10-30T00:00:00.000000000",
          "2020-11-06T00:00:00.000000000",
          "2020-11-13T00:00:00.000000000",
          "2020-11-20T00:00:00.000000000",
          "2020-11-27T00:00:00.000000000",
          "2020-12-04T00:00:00.000000000",
          "2020-12-11T00:00:00.000000000",
          "2020-12-18T00:00:00.000000000",
          "2021-01-08T00:00:00.000000000",
          "2021-01-15T00:00:00.000000000",
          "2021-01-22T00:00:00.000000000",
          "2021-01-29T00:00:00.000000000",
          "2021-02-05T00:00:00.000000000",
          "2021-02-12T00:00:00.000000000",
          "2021-02-19T00:00:00.000000000",
          "2021-02-26T00:00:00.000000000",
          "2021-03-05T00:00:00.000000000",
          "2021-03-12T00:00:00.000000000",
          "2021-03-19T00:00:00.000000000",
          "2021-03-26T00:00:00.000000000",
          "2021-04-02T00:00:00.000000000",
          "2021-04-12T00:00:00.000000000",
          "2021-04-16T00:00:00.000000000",
          "2021-04-23T00:00:00.000000000",
          "2021-04-30T00:00:00.000000000",
          "2021-05-07T00:00:00.000000000",
          "2021-05-14T00:00:00.000000000",
          "2021-05-21T00:00:00.000000000",
          "2021-05-28T00:00:00.000000000",
          "2021-06-04T00:00:00.000000000",
          "2021-06-11T00:00:00.000000000",
          "2021-06-18T00:00:00.000000000",
          "2021-06-25T00:00:00.000000000",
          "2021-07-02T00:00:00.000000000",
          "2021-07-09T00:00:00.000000000",
          "2021-07-16T00:00:00.000000000",
          "2021-07-23T00:00:00.000000000",
          "2021-07-30T00:00:00.000000000",
          "2021-08-06T00:00:00.000000000",
          "2021-08-13T00:00:00.000000000",
          "2021-08-20T00:00:00.000000000",
          "2021-08-27T00:00:00.000000000",
          "2021-09-03T00:00:00.000000000",
          "2021-09-10T00:00:00.000000000",
          "2021-09-17T00:00:00.000000000",
          "2021-09-24T00:00:00.000000000",
          "2021-10-01T00:00:00.000000000",
          "2021-10-08T00:00:00.000000000",
          "2021-10-15T00:00:00.000000000",
          "2021-10-22T00:00:00.000000000",
          "2021-10-29T00:00:00.000000000",
          "2021-11-05T00:00:00.000000000",
          "2021-11-12T00:00:00.000000000",
          "2021-11-19T00:00:00.000000000",
          "2021-11-26T00:00:00.000000000",
          "2021-12-03T00:00:00.000000000",
          "2021-12-10T00:00:00.000000000",
          "2021-12-17T00:00:00.000000000",
          "2022-01-07T00:00:00.000000000",
          "2022-01-14T00:00:00.000000000",
          "2022-01-21T00:00:00.000000000",
          "2022-01-28T00:00:00.000000000",
          "2022-02-04T00:00:00.000000000",
          "2022-02-13T00:00:00.000000000",
          "2022-02-18T00:00:00.000000000",
          "2022-02-25T00:00:00.000000000",
          "2022-03-04T00:00:00.000000000",
          "2022-03-11T00:00:00.000000000",
          "2022-03-18T00:00:00.000000000",
          "2022-03-25T00:00:00.000000000",
          "2022-04-01T00:00:00.000000000",
          "2022-04-08T00:00:00.000000000",
          "2022-04-15T00:00:00.000000000",
          "2022-04-22T00:00:00.000000000",
          "2022-04-29T00:00:00.000000000",
          "2022-05-06T00:00:00.000000000",
          "2022-05-13T00:00:00.000000000",
          "2022-05-20T00:00:00.000000000",
          "2022-05-27T00:00:00.000000000",
          "2022-06-03T00:00:00.000000000",
          "2022-06-10T00:00:00.000000000",
          "2022-06-17T00:00:00.000000000",
          "2022-06-24T00:00:00.000000000",
          "2022-07-01T00:00:00.000000000",
          "2022-07-08T00:00:00.000000000",
          "2022-07-15T00:00:00.000000000",
          "2022-07-22T00:00:00.000000000",
          "2022-07-29T00:00:00.000000000",
          "2022-08-05T00:00:00.000000000",
          "2022-08-12T00:00:00.000000000",
          "2022-08-19T00:00:00.000000000",
          "2022-08-26T00:00:00.000000000",
          "2022-09-02T00:00:00.000000000",
          "2022-09-09T00:00:00.000000000",
          "2022-09-16T00:00:00.000000000",
          "2022-09-23T00:00:00.000000000",
          "2022-09-30T00:00:00.000000000",
          "2022-10-07T00:00:00.000000000",
          "2022-10-14T00:00:00.000000000",
          "2022-10-21T00:00:00.000000000",
          "2022-10-28T00:00:00.000000000",
          "2022-11-04T00:00:00.000000000",
          "2022-11-11T00:00:00.000000000",
          "2022-11-18T00:00:00.000000000",
          "2022-11-25T00:00:00.000000000",
          "2022-12-02T00:00:00.000000000",
          "2022-12-09T00:00:00.000000000",
          "2022-12-16T00:00:00.000000000",
          "2023-01-06T00:00:00.000000000",
          "2023-01-13T00:00:00.000000000",
          "2023-01-20T00:00:00.000000000",
          "2023-01-27T00:00:00.000000000",
          "2023-02-03T00:00:00.000000000",
          "2023-02-10T00:00:00.000000000",
          "2023-02-17T00:00:00.000000000",
          "2023-02-24T00:00:00.000000000",
          "2023-03-03T00:00:00.000000000",
          "2023-03-10T00:00:00.000000000",
          "2023-03-17T00:00:00.000000000",
          "2023-03-24T00:00:00.000000000",
          "2023-03-31T00:00:00.000000000",
          "2023-04-07T00:00:00.000000000",
          "2023-04-14T00:00:00.000000000",
          "2023-04-21T00:00:00.000000000",
          "2023-04-28T00:00:00.000000000",
          "2023-05-05T00:00:00.000000000",
          "2023-05-12T00:00:00.000000000",
          "2023-05-19T00:00:00.000000000",
          "2023-05-26T00:00:00.000000000",
          "2023-06-02T00:00:00.000000000",
          "2023-06-09T00:00:00.000000000",
          "2023-06-16T00:00:00.000000000",
          "2023-06-23T00:00:00.000000000",
          "2023-06-30T00:00:00.000000000",
          "2023-07-14T00:00:00.000000000",
          "2023-07-21T00:00:00.000000000",
          "2023-07-28T00:00:00.000000000",
          "2023-08-04T00:00:00.000000000",
          "2023-08-11T00:00:00.000000000",
          "2023-08-18T00:00:00.000000000"
         ],
         "y": {
          "bdata": "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",
          "dtype": "f8"
         }
        },
        {
         "line": {
          "color": "black"
         },
         "mode": "lines+markers",
         "name": "Actual (Test)",
         "type": "scatter",
         "x": [
          "2023-08-25T00:00:00.000000000",
          "2023-09-01T00:00:00.000000000",
          "2023-09-08T00:00:00.000000000",
          "2023-09-15T00:00:00.000000000",
          "2023-09-22T00:00:00.000000000",
          "2023-09-29T00:00:00.000000000",
          "2023-10-06T00:00:00.000000000",
          "2023-10-13T00:00:00.000000000",
          "2023-10-20T00:00:00.000000000",
          "2023-10-27T00:00:00.000000000",
          "2023-11-03T00:00:00.000000000",
          "2023-11-10T00:00:00.000000000",
          "2023-11-17T00:00:00.000000000",
          "2023-11-24T00:00:00.000000000",
          "2023-12-01T00:00:00.000000000",
          "2023-12-08T00:00:00.000000000",
          "2023-12-15T00:00:00.000000000",
          "2023-12-22T00:00:00.000000000",
          "2024-01-05T00:00:00.000000000",
          "2024-01-12T00:00:00.000000000",
          "2024-01-19T00:00:00.000000000",
          "2024-01-26T00:00:00.000000000",
          "2024-02-02T00:00:00.000000000",
          "2024-02-09T00:00:00.000000000",
          "2024-02-16T00:00:00.000000000",
          "2024-02-23T00:00:00.000000000",
          "2024-03-01T00:00:00.000000000",
          "2024-03-08T00:00:00.000000000",
          "2024-03-15T00:00:00.000000000",
          "2024-03-22T00:00:00.000000000",
          "2024-03-29T00:00:00.000000000",
          "2024-04-05T00:00:00.000000000",
          "2024-04-12T00:00:00.000000000",
          "2024-04-19T00:00:00.000000000",
          "2024-04-26T00:00:00.000000000",
          "2024-05-03T00:00:00.000000000",
          "2024-05-10T00:00:00.000000000",
          "2024-05-17T00:00:00.000000000",
          "2024-05-24T00:00:00.000000000",
          "2024-05-31T00:00:00.000000000",
          "2024-06-07T00:00:00.000000000",
          "2024-06-14T00:00:00.000000000",
          "2024-06-21T00:00:00.000000000",
          "2024-06-28T00:00:00.000000000",
          "2024-07-12T00:00:00.000000000",
          "2024-07-19T00:00:00.000000000",
          "2024-07-26T00:00:00.000000000",
          "2024-08-02T00:00:00.000000000",
          "2024-08-09T00:00:00.000000000",
          "2024-08-16T00:00:00.000000000",
          "2024-08-23T00:00:00.000000000",
          "2024-08-30T00:00:00.000000000",
          "2024-09-06T00:00:00.000000000",
          "2024-09-13T00:00:00.000000000",
          "2024-09-20T00:00:00.000000000",
          "2024-09-27T00:00:00.000000000",
          "2024-10-04T00:00:00.000000000",
          "2024-10-11T00:00:00.000000000",
          "2024-10-18T00:00:00.000000000",
          "2024-10-25T00:00:00.000000000",
          "2024-11-01T00:00:00.000000000",
          "2024-11-08T00:00:00.000000000",
          "2024-11-15T00:00:00.000000000",
          "2024-11-22T00:00:00.000000000",
          "2024-11-29T00:00:00.000000000",
          "2024-12-06T00:00:00.000000000",
          "2024-12-13T00:00:00.000000000",
          "2024-12-20T00:00:00.000000000",
          "2025-01-03T00:00:00.000000000",
          "2025-01-10T00:00:00.000000000",
          "2025-01-17T00:00:00.000000000",
          "2025-01-24T00:00:00.000000000",
          "2025-01-31T00:00:00.000000000",
          "2025-02-07T00:00:00.000000000"
         ],
         "y": {
          "bdata": "8WPFNaOyb0Cim6XsQXJtQD3TV9p5Um9A0c7eVHDdb0ByBgG6ecpwQBVlUCK54m9Ax+Q6L0IPb0APr2a258NvQPp9sb+B4G5A005wQxcUcEAjnrcPHWFvQKjUKB6CG25AHNha77ezbUBhvUjGg45tQLJUeCXMcG1Aj2xzZlSkbUCnzkvM24JtQNlV4Cu8znBA0wVilK6bbUBt8Uk4ja5tQDiPThipa25AGptiAUgKb0D5+4J5fixwQHcOyg1wNHBAcHcYEb9IcUBGSrw08iBxQABcYpdZUXFA8UoQOTt7cEAHfErmdG5wQFA8istkwHBANbHn3e+WcEAAZgVJMzdxQMekDTJxWXBAC2LxLtf/b0DooUdlM+dvQGOEgiM5wHBAiXkQ+q4YcEDEs6jIbDFvQG28p439+m9AvqHD6Ci+cEC5bFhs0s1wQGjOu6kfHHFAODFqfVfccEAX28KJh5JwQIZQ7nWLTnBAnoyb9glUcECm9ZiLMYRwQLt2c5vze3BA7Tvsgb8ecEBKMIKmgT1wQGwBvo6GKXBA5e7YURI+cECfdcNm7NhwQKSogxVbn29A8q45jbeIbkCvHk1alCxvQIOOVKCaRnBA37QkJ+jxb0DCcRU8dy1vQM7w+Li9Bm9A06xAXQ/HbkBKD21xUCxvQI7F7OhAdnBAVtxkkB1icEB4Jq7OhQZxQCTFFydTqXFAya5lKCaIcUDlyqHwDYxxQFyPwvWov3FAFK5H4XoQckApXI/C9fhxQBSuR+F6X3JAFK5H4XqNckBSuB6F605yQA==",
          "dtype": "f8"
         }
        },
        {
         "line": {
          "color": "red"
         },
         "mode": "lines+markers",
         "name": "Forecast (Predicted)",
         "type": "scatter",
         "x": [
          "2023-08-25T00:00:00.000000000",
          "2023-09-01T00:00:00.000000000",
          "2023-09-08T00:00:00.000000000",
          "2023-09-15T00:00:00.000000000",
          "2023-09-22T00:00:00.000000000",
          "2023-09-29T00:00:00.000000000",
          "2023-10-06T00:00:00.000000000",
          "2023-10-13T00:00:00.000000000",
          "2023-10-20T00:00:00.000000000",
          "2023-10-27T00:00:00.000000000",
          "2023-11-03T00:00:00.000000000",
          "2023-11-10T00:00:00.000000000",
          "2023-11-17T00:00:00.000000000",
          "2023-11-24T00:00:00.000000000",
          "2023-12-01T00:00:00.000000000",
          "2023-12-08T00:00:00.000000000",
          "2023-12-15T00:00:00.000000000",
          "2023-12-22T00:00:00.000000000",
          "2024-01-05T00:00:00.000000000",
          "2024-01-12T00:00:00.000000000",
          "2024-01-19T00:00:00.000000000",
          "2024-01-26T00:00:00.000000000",
          "2024-02-02T00:00:00.000000000",
          "2024-02-09T00:00:00.000000000",
          "2024-02-16T00:00:00.000000000",
          "2024-02-23T00:00:00.000000000",
          "2024-03-01T00:00:00.000000000",
          "2024-03-08T00:00:00.000000000",
          "2024-03-15T00:00:00.000000000",
          "2024-03-22T00:00:00.000000000",
          "2024-03-29T00:00:00.000000000",
          "2024-04-05T00:00:00.000000000",
          "2024-04-12T00:00:00.000000000",
          "2024-04-19T00:00:00.000000000",
          "2024-04-26T00:00:00.000000000",
          "2024-05-03T00:00:00.000000000",
          "2024-05-10T00:00:00.000000000",
          "2024-05-17T00:00:00.000000000",
          "2024-05-24T00:00:00.000000000",
          "2024-05-31T00:00:00.000000000",
          "2024-06-07T00:00:00.000000000",
          "2024-06-14T00:00:00.000000000",
          "2024-06-21T00:00:00.000000000",
          "2024-06-28T00:00:00.000000000",
          "2024-07-12T00:00:00.000000000",
          "2024-07-19T00:00:00.000000000",
          "2024-07-26T00:00:00.000000000",
          "2024-08-02T00:00:00.000000000",
          "2024-08-09T00:00:00.000000000",
          "2024-08-16T00:00:00.000000000",
          "2024-08-23T00:00:00.000000000",
          "2024-08-30T00:00:00.000000000",
          "2024-09-06T00:00:00.000000000",
          "2024-09-13T00:00:00.000000000",
          "2024-09-20T00:00:00.000000000",
          "2024-09-27T00:00:00.000000000",
          "2024-10-04T00:00:00.000000000",
          "2024-10-11T00:00:00.000000000",
          "2024-10-18T00:00:00.000000000",
          "2024-10-25T00:00:00.000000000",
          "2024-11-01T00:00:00.000000000",
          "2024-11-08T00:00:00.000000000",
          "2024-11-15T00:00:00.000000000",
          "2024-11-22T00:00:00.000000000",
          "2024-11-29T00:00:00.000000000",
          "2024-12-06T00:00:00.000000000",
          "2024-12-13T00:00:00.000000000",
          "2024-12-20T00:00:00.000000000",
          "2025-01-03T00:00:00.000000000",
          "2025-01-10T00:00:00.000000000",
          "2025-01-17T00:00:00.000000000",
          "2025-01-24T00:00:00.000000000",
          "2025-01-31T00:00:00.000000000",
          "2025-02-07T00:00:00.000000000"
         ],
         "y": {
          "bdata": "+tk/OBigbkCe4p72uOpuQD43FsJ5/W5AqrZAvME1b0BKXUS+VxlvQAo6LF2w4G5AvkECyzx3bkCm2p2ImXZuQMIZEzJMMG5A0sIDHhiobUCWKQ/aQddtQKzQDl7zcW1AsvFgruo+bUCeDnDxxSFtQDpXW2AqgmxAzucczDv/a0DKUSaZPHxsQI4yPn9J1mxA4vCevX4FbUBmBgfGmRVtQORcYT3GW21A4BQaE3WZbUC6PgCwF0RuQPqhciU7nm5AoPu4NgbJbkD23IOPOClvQMoegAMTEm9AVhI2LDMTb0ACfPk3h+tuQAwLGA3VAG9A5NGBrVDibkBWd8v5bmRuQHDXMtbPNW5Abhybb600bkBMR0T/4G5uQC5bC9fcc25AHJ11MnkubkBMURJb519uQAbnn8GL+G5AiPuqTO2Vb0AusjdXw/VuQGrZzNQbCG9AZofIqug5b0Buq6IWFlBvQNi2xMejRW9ARgUFUnhWb0AU+mDeyTdvQE7cZjU3525AlHxjVzX9bUCWNI3/AERuQISDOYDZ121AesqhShLdbUBW5fX7VGttQGia1p0Xj21AdlEcHTHebUAA6Y+R69ptQL5UJo9S/21AChZKgj0qbkCSavhsGPptQC79fD4t/G1Ahn/wnhMAbkDKo4a1jcVtQF4P3+VSrW1Avs+fmDQsbkBWNkV3WXVuQFacRy5AcG5AAPrz9OR1bkB4Vl9obE9uQGI2JJXhnG5ASt+uAw8Ab0AWwDwVfEFvQMg4Xe4Kfm9AYjuDZL+vb0A6jTw8puduQA==",
          "dtype": "f8"
         }
        }
       ],
       "layout": {
        "template": {
         "data": {
          "bar": [
           {
            "error_x": {
             "color": "#2a3f5f"
            },
            "error_y": {
             "color": "#2a3f5f"
            },
            "marker": {
             "line": {
              "color": "white",
              "width": 0.5
             },
             "pattern": {
              "fillmode": "overlay",
              "size": 10,
              "solidity": 0.2
             }
            },
            "type": "bar"
           }
          ],
          "barpolar": [
           {
            "marker": {
             "line": {
              "color": "white",
              "width": 0.5
             },
             "pattern": {
              "fillmode": "overlay",
              "size": 10,
              "solidity": 0.2
             }
            },
            "type": "barpolar"
           }
          ],
          "carpet": [
           {
            "aaxis": {
             "endlinecolor": "#2a3f5f",
             "gridcolor": "#C8D4E3",
             "linecolor": "#C8D4E3",
             "minorgridcolor": "#C8D4E3",
             "startlinecolor": "#2a3f5f"
            },
            "baxis": {
             "endlinecolor": "#2a3f5f",
             "gridcolor": "#C8D4E3",
             "linecolor": "#C8D4E3",
             "minorgridcolor": "#C8D4E3",
             "startlinecolor": "#2a3f5f"
            },
            "type": "carpet"
           }
          ],
          "choropleth": [
           {
            "colorbar": {
             "outlinewidth": 0,
             "ticks": ""
            },
            "type": "choropleth"
           }
          ],
          "contour": [
           {
            "colorbar": {
             "outlinewidth": 0,
             "ticks": ""
            },
            "colorscale": [
             [
              0,
              "#0d0887"
             ],
             [
              0.1111111111111111,
              "#46039f"
             ],
             [
              0.2222222222222222,
              "#7201a8"
             ],
             [
              0.3333333333333333,
              "#9c179e"
             ],
             [
              0.4444444444444444,
              "#bd3786"
             ],
             [
              0.5555555555555556,
              "#d8576b"
             ],
             [
              0.6666666666666666,
              "#ed7953"
             ],
             [
              0.7777777777777778,
              "#fb9f3a"
             ],
             [
              0.8888888888888888,
              "#fdca26"
             ],
             [
              1,
              "#f0f921"
             ]
            ],
            "type": "contour"
           }
          ],
          "contourcarpet": [
           {
            "colorbar": {
             "outlinewidth": 0,
             "ticks": ""
            },
            "type": "contourcarpet"
           }
          ],
          "heatmap": [
           {
            "colorbar": {
             "outlinewidth": 0,
             "ticks": ""
            },
            "colorscale": [
             [
              0,
              "#0d0887"
             ],
             [
              0.1111111111111111,
              "#46039f"
             ],
             [
              0.2222222222222222,
              "#7201a8"
             ],
             [
              0.3333333333333333,
              "#9c179e"
             ],
             [
              0.4444444444444444,
              "#bd3786"
             ],
             [
              0.5555555555555556,
              "#d8576b"
             ],
             [
              0.6666666666666666,
              "#ed7953"
             ],
             [
              0.7777777777777778,
              "#fb9f3a"
             ],
             [
              0.8888888888888888,
              "#fdca26"
             ],
             [
              1,
              "#f0f921"
             ]
            ],
            "type": "heatmap"
           }
          ],
          "histogram": [
           {
            "marker": {
             "pattern": {
              "fillmode": "overlay",
              "size": 10,
              "solidity": 0.2
             }
            },
            "type": "histogram"
           }
          ],
          "histogram2d": [
           {
            "colorbar": {
             "outlinewidth": 0,
             "ticks": ""
            },
            "colorscale": [
             [
              0,
              "#0d0887"
             ],
             [
              0.1111111111111111,
              "#46039f"
             ],
             [
              0.2222222222222222,
              "#7201a8"
             ],
             [
              0.3333333333333333,
              "#9c179e"
             ],
             [
              0.4444444444444444,
              "#bd3786"
             ],
             [
              0.5555555555555556,
              "#d8576b"
             ],
             [
              0.6666666666666666,
              "#ed7953"
             ],
             [
              0.7777777777777778,
              "#fb9f3a"
             ],
             [
              0.8888888888888888,
              "#fdca26"
             ],
             [
              1,
              "#f0f921"
             ]
            ],
            "type": "histogram2d"
           }
          ],
          "histogram2dcontour": [
           {
            "colorbar": {
             "outlinewidth": 0,
             "ticks": ""
            },
            "colorscale": [
             [
              0,
              "#0d0887"
             ],
             [
              0.1111111111111111,
              "#46039f"
             ],
             [
              0.2222222222222222,
              "#7201a8"
             ],
             [
              0.3333333333333333,
              "#9c179e"
             ],
             [
              0.4444444444444444,
              "#bd3786"
             ],
             [
              0.5555555555555556,
              "#d8576b"
             ],
             [
              0.6666666666666666,
              "#ed7953"
             ],
             [
              0.7777777777777778,
              "#fb9f3a"
             ],
             [
              0.8888888888888888,
              "#fdca26"
             ],
             [
              1,
              "#f0f921"
             ]
            ],
            "type": "histogram2dcontour"
           }
          ],
          "mesh3d": [
           {
            "colorbar": {
             "outlinewidth": 0,
             "ticks": ""
            },
            "type": "mesh3d"
           }
          ],
          "parcoords": [
           {
            "line": {
             "colorbar": {
              "outlinewidth": 0,
              "ticks": ""
             }
            },
            "type": "parcoords"
           }
          ],
          "pie": [
           {
            "automargin": true,
            "type": "pie"
           }
          ],
          "scatter": [
           {
            "fillpattern": {
             "fillmode": "overlay",
             "size": 10,
             "solidity": 0.2
            },
            "type": "scatter"
           }
          ],
          "scatter3d": [
           {
            "line": {
             "colorbar": {
              "outlinewidth": 0,
              "ticks": ""
             }
            },
            "marker": {
             "colorbar": {
              "outlinewidth": 0,
              "ticks": ""
             }
            },
            "type": "scatter3d"
           }
          ],
          "scattercarpet": [
           {
            "marker": {
             "colorbar": {
              "outlinewidth": 0,
              "ticks": ""
             }
            },
            "type": "scattercarpet"
           }
          ],
          "scattergeo": [
           {
            "marker": {
             "colorbar": {
              "outlinewidth": 0,
              "ticks": ""
             }
            },
            "type": "scattergeo"
           }
          ],
          "scattergl": [
           {
            "marker": {
             "colorbar": {
              "outlinewidth": 0,
              "ticks": ""
             }
            },
            "type": "scattergl"
           }
          ],
          "scattermap": [
           {
            "marker": {
             "colorbar": {
              "outlinewidth": 0,
              "ticks": ""
             }
            },
            "type": "scattermap"
           }
          ],
          "scattermapbox": [
           {
            "marker": {
             "colorbar": {
              "outlinewidth": 0,
              "ticks": ""
             }
            },
            "type": "scattermapbox"
           }
          ],
          "scatterpolar": [
           {
            "marker": {
             "colorbar": {
              "outlinewidth": 0,
              "ticks": ""
             }
            },
            "type": "scatterpolar"
           }
          ],
          "scatterpolargl": [
           {
            "marker": {
             "colorbar": {
              "outlinewidth": 0,
              "ticks": ""
             }
            },
            "type": "scatterpolargl"
           }
          ],
          "scatterternary": [
           {
            "marker": {
             "colorbar": {
              "outlinewidth": 0,
              "ticks": ""
             }
            },
            "type": "scatterternary"
           }
          ],
          "surface": [
           {
            "colorbar": {
             "outlinewidth": 0,
             "ticks": ""
            },
            "colorscale": [
             [
              0,
              "#0d0887"
             ],
             [
              0.1111111111111111,
              "#46039f"
             ],
             [
              0.2222222222222222,
              "#7201a8"
             ],
             [
              0.3333333333333333,
              "#9c179e"
             ],
             [
              0.4444444444444444,
              "#bd3786"
             ],
             [
              0.5555555555555556,
              "#d8576b"
             ],
             [
              0.6666666666666666,
              "#ed7953"
             ],
             [
              0.7777777777777778,
              "#fb9f3a"
             ],
             [
              0.8888888888888888,
              "#fdca26"
             ],
             [
              1,
              "#f0f921"
             ]
            ],
            "type": "surface"
           }
          ],
          "table": [
           {
            "cells": {
             "fill": {
              "color": "#EBF0F8"
             },
             "line": {
              "color": "white"
             }
            },
            "header": {
             "fill": {
              "color": "#C8D4E3"
             },
             "line": {
              "color": "white"
             }
            },
            "type": "table"
           }
          ]
         },
         "layout": {
          "annotationdefaults": {
           "arrowcolor": "#2a3f5f",
           "arrowhead": 0,
           "arrowwidth": 1
          },
          "autotypenumbers": "strict",
          "coloraxis": {
           "colorbar": {
            "outlinewidth": 0,
            "ticks": ""
           }
          },
          "colorscale": {
           "diverging": [
            [
             0,
             "#8e0152"
            ],
            [
             0.1,
             "#c51b7d"
            ],
            [
             0.2,
             "#de77ae"
            ],
            [
             0.3,
             "#f1b6da"
            ],
            [
             0.4,
             "#fde0ef"
            ],
            [
             0.5,
             "#f7f7f7"
            ],
            [
             0.6,
             "#e6f5d0"
            ],
            [
             0.7,
             "#b8e186"
            ],
            [
             0.8,
             "#7fbc41"
            ],
            [
             0.9,
             "#4d9221"
            ],
            [
             1,
             "#276419"
            ]
           ],
           "sequential": [
            [
             0,
             "#0d0887"
            ],
            [
             0.1111111111111111,
             "#46039f"
            ],
            [
             0.2222222222222222,
             "#7201a8"
            ],
            [
             0.3333333333333333,
             "#9c179e"
            ],
            [
             0.4444444444444444,
             "#bd3786"
            ],
            [
             0.5555555555555556,
             "#d8576b"
            ],
            [
             0.6666666666666666,
             "#ed7953"
            ],
            [
             0.7777777777777778,
             "#fb9f3a"
            ],
            [
             0.8888888888888888,
             "#fdca26"
            ],
            [
             1,
             "#f0f921"
            ]
           ],
           "sequentialminus": [
            [
             0,
             "#0d0887"
            ],
            [
             0.1111111111111111,
             "#46039f"
            ],
            [
             0.2222222222222222,
             "#7201a8"
            ],
            [
             0.3333333333333333,
             "#9c179e"
            ],
            [
             0.4444444444444444,
             "#bd3786"
            ],
            [
             0.5555555555555556,
             "#d8576b"
            ],
            [
             0.6666666666666666,
             "#ed7953"
            ],
            [
             0.7777777777777778,
             "#fb9f3a"
            ],
            [
             0.8888888888888888,
             "#fdca26"
            ],
            [
             1,
             "#f0f921"
            ]
           ]
          },
          "colorway": [
           "#636efa",
           "#EF553B",
           "#00cc96",
           "#ab63fa",
           "#FFA15A",
           "#19d3f3",
           "#FF6692",
           "#B6E880",
           "#FF97FF",
           "#FECB52"
          ],
          "font": {
           "color": "#2a3f5f"
          },
          "geo": {
           "bgcolor": "white",
           "lakecolor": "white",
           "landcolor": "white",
           "showlakes": true,
           "showland": true,
           "subunitcolor": "#C8D4E3"
          },
          "hoverlabel": {
           "align": "left"
          },
          "hovermode": "closest",
          "mapbox": {
           "style": "light"
          },
          "paper_bgcolor": "white",
          "plot_bgcolor": "white",
          "polar": {
           "angularaxis": {
            "gridcolor": "#EBF0F8",
            "linecolor": "#EBF0F8",
            "ticks": ""
           },
           "bgcolor": "white",
           "radialaxis": {
            "gridcolor": "#EBF0F8",
            "linecolor": "#EBF0F8",
            "ticks": ""
           }
          },
          "scene": {
           "xaxis": {
            "backgroundcolor": "white",
            "gridcolor": "#DFE8F3",
            "gridwidth": 2,
            "linecolor": "#EBF0F8",
            "showbackground": true,
            "ticks": "",
            "zerolinecolor": "#EBF0F8"
           },
           "yaxis": {
            "backgroundcolor": "white",
            "gridcolor": "#DFE8F3",
            "gridwidth": 2,
            "linecolor": "#EBF0F8",
            "showbackground": true,
            "ticks": "",
            "zerolinecolor": "#EBF0F8"
           },
           "zaxis": {
            "backgroundcolor": "white",
            "gridcolor": "#DFE8F3",
            "gridwidth": 2,
            "linecolor": "#EBF0F8",
            "showbackground": true,
            "ticks": "",
            "zerolinecolor": "#EBF0F8"
           }
          },
          "shapedefaults": {
           "line": {
            "color": "#2a3f5f"
           }
          },
          "ternary": {
           "aaxis": {
            "gridcolor": "#DFE8F3",
            "linecolor": "#A2B1C6",
            "ticks": ""
           },
           "baxis": {
            "gridcolor": "#DFE8F3",
            "linecolor": "#A2B1C6",
            "ticks": ""
           },
           "bgcolor": "white",
           "caxis": {
            "gridcolor": "#DFE8F3",
            "linecolor": "#A2B1C6",
            "ticks": ""
           }
          },
          "title": {
           "x": 0.05
          },
          "xaxis": {
           "automargin": true,
           "gridcolor": "#EBF0F8",
           "linecolor": "#EBF0F8",
           "ticks": "",
           "title": {
            "standoff": 15
           },
           "zerolinecolor": "#EBF0F8",
           "zerolinewidth": 2
          },
          "yaxis": {
           "automargin": true,
           "gridcolor": "#EBF0F8",
           "linecolor": "#EBF0F8",
           "ticks": "",
           "title": {
            "standoff": 15
           },
           "zerolinecolor": "#EBF0F8",
           "zerolinewidth": 2
          }
         }
        },
        "title": {
         "text": "Model Fit: Historical Data and Forecast"
        },
        "xaxis": {
         "title": {
          "text": "Date"
         }
        },
        "yaxis": {
         "title": {
          "text": "AVG_PRICE_AUCTION (Inflation Adjusted)"
         }
        }
       }
      }
     },
     "metadata": {},
     "output_type": "display_data"
    }
   ],
   "source": [
    "# VISUALIZATION OF DATA\n",
    "fig = go.Figure()\n",
    "\n",
    "# Historical (Training) data trace\n",
    "fig.add_trace(go.Scatter(\n",
    "    x=X_train.index, y=y_train,\n",
    "    mode='lines+markers',\n",
    "    name='Historical (Train)',\n",
    "    line=dict(color='blue')\n",
    "))\n",
    "\n",
    "# Actual test data trace\n",
    "fig.add_trace(go.Scatter(\n",
    "    x=X_test.index, y=y_test,\n",
    "    mode='lines+markers',\n",
    "    name='Actual (Test)',\n",
    "    line=dict(color='black')\n",
    "))\n",
    "\n",
    "# Forecast (Predicted) data trace\n",
    "fig.add_trace(go.Scatter(\n",
    "    x=X_test.index, y=lrg_pred,\n",
    "    mode='lines+markers',\n",
    "    name='Forecast (Predicted)',\n",
    "    line=dict(color='red')\n",
    "))\n",
    "\n",
    "# Update layout with titles and axis labels\n",
    "fig.update_layout(\n",
    "    title='Model Fit: Historical Data and Forecast',\n",
    "    xaxis_title='Date',\n",
    "    yaxis_title='AVG_PRICE_AUCTION (Inflation Adjusted)',\n",
    "    template='plotly_white'\n",
    ")"
   ]
  }
 ],
 "metadata": {
  "kernelspec": {
   "display_name": "Python 3",
   "language": "python",
   "name": "python3"
  },
  "language_info": {
   "codemirror_mode": {
    "name": "ipython",
    "version": 3
   },
   "file_extension": ".py",
   "mimetype": "text/x-python",
   "name": "python",
   "nbconvert_exporter": "python",
   "pygments_lexer": "ipython3",
   "version": "3.10.6"
  }
 },
 "nbformat": 4,
 "nbformat_minor": 2
}
