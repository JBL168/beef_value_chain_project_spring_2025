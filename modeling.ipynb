{
 "cells": [
  {
   "cell_type": "code",
   "execution_count": 348,
   "metadata": {},
   "outputs": [],
   "source": [
    "from sklearn.model_selection import train_test_split\n",
    "from sklearn.metrics import mean_absolute_error, mean_squared_error, r2_score\n",
    "from sklearn.ensemble import RandomForestRegressor\n",
    "from sklearn.linear_model import LinearRegression\n",
    "from scipy.stats import spearmanr\n",
    "from statsmodels.tsa.stattools import adfuller\n",
    "from statsmodels.graphics.tsaplots import plot_acf, plot_pacf\n",
    "from statsmodels.tsa.arima.model import ARIMA\n",
    "from xgboost import XGBRegressor\n",
    "import pandas as pd\n",
    "import matplotlib.pyplot as plt\n",
    "import seaborn as sns\n",
    "import plotly.express as px\n",
    "import plotly.graph_objects as go\n",
    "import numpy as np\n",
    "import optuna as ot"
   ]
  },
  {
   "cell_type": "code",
   "execution_count": 349,
   "metadata": {},
   "outputs": [],
   "source": [
    "data = pd.read_csv('aggregated_data.csv')\n",
    "\n",
    "# INFLATION ADJUSTMENT\n",
    "base_cpi = data['CPI_US'].iloc[-1]\n",
    "data['AVG_PRICE_AUCTION'] = data['AVG_PRICE_AUCTION'] * (base_cpi/data['CPI_US'])\n",
    "data['CORN_FUTURES_TYPICAL_PRICE'] = data['CORN_FUTURES_TYPICAL_PRICE'] * (base_cpi/data['CPI_US'])\n",
    "data['FEEDER_CATTLE_FUTURES_TYPICAL_PRICE'] = data['FEEDER_CATTLE_FUTURES_TYPICAL_PRICE'] * (base_cpi/data['CPI_US'])\n",
    "data['US_MXN_RATES'] = data['US_MXN_RATES'] * (base_cpi/data['CPI_US'])\n",
    "data['DIESEL_RETAIL_PRICE'] = data['DIESEL_RETAIL_PRICE'] * (base_cpi/data['CPI_US'])\n",
    "data['DATE'] = pd.to_datetime(data['DATE'])\n",
    "\n",
    "# ['avg_price_steers_ML1', 'avg_price_steers_ML1_2', 'avg_price_heifers_ML1', 'avg_price_heifers_ML1_2', 'CPI_US', 'NATIONAL_AUCTION_SALES','NATIONAL_TOTAL_SALES', 'TEXAS_AUCTION_SALES']\n",
    "data = data.sort_values('DATE', ignore_index=True).set_index('DATE').drop(['avg_price_steers_ML1', 'avg_price_steers_ML1_2', 'avg_price_heifers_ML1', 'avg_price_heifers_ML1_2', 'NATIONAL_AUCTION_SALES','NATIONAL_TOTAL_SALES', 'TEXAS_AUCTION_SALES'], axis=1)\n",
    "# print(data.head())\n"
   ]
  },
  {
   "cell_type": "markdown",
   "metadata": {},
   "source": [
    "## RANDOM FOREST MODEL"
   ]
  },
  {
   "cell_type": "code",
   "execution_count": 350,
   "metadata": {},
   "outputs": [
    {
     "name": "stdout",
     "output_type": "stream",
     "text": [
      "R² Score: 0.9692757482880006\n",
      "Adjusted-R² Score: 0.9665243227615529\n",
      "Root Mean Squared Error (RMSE): 5.965637679690656\n",
      "Mean Absolute Error (MAE): 4.596643251439692\n"
     ]
    }
   ],
   "source": [
    "# CREATE RANDOM FOREST MODEL\n",
    "X = data.drop(['AVG_PRICE_AUCTION'], axis=1)\n",
    "y = data['AVG_PRICE_AUCTION']\n",
    "\n",
    "# SPLIT DATA INTO 80/20 TRAINING TESTING SETS\n",
    "X_train, X_test, y_train, y_test = train_test_split(X, y, test_size=0.2, random_state=42)\n",
    "\n",
    "# CREATE AND TRAIN RF REGRESSOR\n",
    "rf_regressor = RandomForestRegressor(n_estimators=100, random_state=42)\n",
    "rf_regressor.fit(X_train, y_train)\n",
    "\n",
    "# MAKE PREDICTIONS ON TEST SET\n",
    "rf_pred = rf_regressor.predict(X_test)\n",
    "\n",
    "# EVALUATING MODEL PERFORMANCE\n",
    "rf_r2 = r2_score(y_test, rf_pred) # R²\n",
    "print(f'R² Score: {rf_r2}')\n",
    "\n",
    "n = X_test.shape[0]\n",
    "k = X_test.shape[1]\n",
    "rf_adj_r2 = 1-((1-rf_r2)*(n-1)/(n-k-1)) # Adjusted-R²\n",
    "print(f'Adjusted-R² Score: {rf_adj_r2}')\n",
    "\n",
    "rf_rmse = np.sqrt(mean_squared_error(y_test, rf_pred)) # RMSE\n",
    "print(f'Root Mean Squared Error (RMSE): {rf_rmse}')\n",
    "\n",
    "rf_mae = mean_absolute_error(y_test, rf_pred) # MAE\n",
    "print(f'Mean Absolute Error (MAE): {rf_mae}')"
   ]
  },
  {
   "cell_type": "markdown",
   "metadata": {},
   "source": [
    "## XGBOOST MODEL"
   ]
  },
  {
   "cell_type": "code",
   "execution_count": 352,
   "metadata": {},
   "outputs": [
    {
     "name": "stdout",
     "output_type": "stream",
     "text": [
      "R² Score: 0.9692757482880006\n",
      "Adjusted-R² Score: 0.9665243227615529\n",
      "Root Mean Squared Error (RMSE): 5.965637679690656\n",
      "Mean Absolute Error (MAE): 4.596643251439692\n"
     ]
    }
   ],
   "source": [
    "# CREATE AND TRAIN XGBOOST REGRESSOR\n",
    "xgb_reg = XGBRegressor()\n",
    "xgb_reg.fit(X_train, y_train)\n",
    "xgb_pred = xgb_reg.predict(X_test)\n",
    "\n",
    "# EVALUATING MODEL PERFORMANCE\n",
    "rf_r2 = r2_score(y_test, rf_pred) # R²\n",
    "print(f'R² Score: {rf_r2}')\n",
    "\n",
    "n = X_test.shape[0]\n",
    "k = X_test.shape[1]\n",
    "rf_adj_r2 = 1-((1-rf_r2)*(n-1)/(n-k-1)) # Adjusted-R²\n",
    "print(f'Adjusted-R² Score: {rf_adj_r2}')\n",
    "\n",
    "rf_rmse = np.sqrt(mean_squared_error(y_test, rf_pred)) # RMSE\n",
    "print(f'Root Mean Squared Error (RMSE): {rf_rmse}')\n",
    "\n",
    "rf_mae = mean_absolute_error(y_test, rf_pred) # MAE\n",
    "print(f'Mean Absolute Error (MAE): {rf_mae}')"
   ]
  },
  {
   "cell_type": "markdown",
   "metadata": {},
   "source": [
    "## LINEAR REGRESSION MODEL"
   ]
  },
  {
   "cell_type": "code",
   "execution_count": 351,
   "metadata": {},
   "outputs": [
    {
     "name": "stdout",
     "output_type": "stream",
     "text": [
      "R² Score: 0.9692757482880006\n",
      "Adjusted-R² Score: 0.9665243227615529\n",
      "Root Mean Squared Error (RMSE): 8.50286814543951\n",
      "Mean Absolute Error (MAE): 6.68824434657122\n"
     ]
    }
   ],
   "source": [
    "# CREATE AND TRAIN LINEAR REGRESSION MODEL\n",
    "lin_reg = LinearRegression()\n",
    "lin_reg.fit(X_train, y_train)\n",
    "lrg_pred = lin_reg.predict(X_test)\n",
    "\n",
    "# EVALUATING MODEL PERFORMANCE\n",
    "lrg_r2 = r2_score(y_test, lrg_pred) # R²\n",
    "print(f'R² Score: {rf_r2}')\n",
    "\n",
    "n = X_test.shape[0]\n",
    "k = X_test.shape[1]\n",
    "lrg_adj_r2 = 1-((1-rf_r2)*(n-1)/(n-k-1)) # Adjusted-R²\n",
    "print(f'Adjusted-R² Score: {lrg_adj_r2}')\n",
    "\n",
    "lrg_rmse = np.sqrt(mean_squared_error(y_test, lrg_pred)) # RMSE\n",
    "print(f'Root Mean Squared Error (RMSE): {lrg_rmse}')\n",
    "\n",
    "lrg_mae = mean_absolute_error(y_test, lrg_pred) # MAE\n",
    "print(f'Mean Absolute Error (MAE): {lrg_mae}')"
   ]
  }
 ],
 "metadata": {
  "kernelspec": {
   "display_name": "Python 3",
   "language": "python",
   "name": "python3"
  },
  "language_info": {
   "codemirror_mode": {
    "name": "ipython",
    "version": 3
   },
   "file_extension": ".py",
   "mimetype": "text/x-python",
   "name": "python",
   "nbconvert_exporter": "python",
   "pygments_lexer": "ipython3",
   "version": "3.10.6"
  }
 },
 "nbformat": 4,
 "nbformat_minor": 2
}
