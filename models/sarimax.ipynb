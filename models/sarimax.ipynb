{
 "cells": [
  {
   "cell_type": "code",
   "execution_count": 1,
   "id": "d6b6ccbc",
   "metadata": {},
   "outputs": [],
   "source": [
    "import pandas as pd\n",
    "import numpy as np\n",
    "import os\n",
    "import matplotlib.pyplot as plt\n",
    "from pmdarima import auto_arima\n",
    "from sklearn.preprocessing import StandardScaler\n",
    "import warnings\n",
    "warnings.filterwarnings('ignore')"
   ]
  },
  {
   "cell_type": "code",
   "execution_count": 2,
   "id": "2deab6cd",
   "metadata": {},
   "outputs": [],
   "source": [
    "file_path = os.path.join('..', 'aggregated_data.csv')\n",
    "data = pd.read_csv(file_path)\n",
    "\n",
    "# inflation adjustment\n",
    "base_cpi = data['CPI_US'].iloc[-1]\n",
    "data['AVG_PRICE_AUCTION'] = data['AVG_PRICE_AUCTION'] * (base_cpi/data['CPI_US'])\n",
    "data['CORN_FUTURES_TYPICAL_PRICE'] = data['CORN_FUTURES_TYPICAL_PRICE'] * (base_cpi/data['CPI_US'])\n",
    "data['FEEDER_CATTLE_FUTURES_TYPICAL_PRICE'] = data['FEEDER_CATTLE_FUTURES_TYPICAL_PRICE'] * (base_cpi/data['CPI_US'])\n",
    "data['US_MXN_RATES'] = data['US_MXN_RATES'] * (base_cpi/data['CPI_US'])\n",
    "data['DIESEL_RETAIL_PRICE'] = data['DIESEL_RETAIL_PRICE'] * (base_cpi/data['CPI_US'])\n",
    "data['DATE'] = pd.to_datetime(data['DATE'])\n",
    "\n",
    "data = data.sort_values('DATE', ignore_index=True).set_index('DATE').drop( # drop columns not used for training\n",
    "    ['avg_price_steers_ML1', \n",
    "     'avg_price_steers_ML1_2', \n",
    "     'avg_price_heifers_ML1', \n",
    "     'avg_price_heifers_ML1_2', \n",
    "     'NATIONAL_AUCTION_SALES', \n",
    "     'NATIONAL_TOTAL_SALES', \n",
    "     'TEXAS_AUCTION_SALES', \n",
    "     'CORN_FUTURES_TYPICAL_PRICE', \n",
    "     'DIESEL_RETAIL_PRICE', \n",
    "     'ALFAFA_HAY_PPI', \n",
    "     'CORN_PPI',\n",
    "    #  'US_MXN_RATES',\n",
    "     ], axis=1)\n"
   ]
  },
  {
   "cell_type": "code",
   "execution_count": 3,
   "id": "7a76c306",
   "metadata": {},
   "outputs": [],
   "source": [
    "X = data.drop(['AVG_PRICE_AUCTION'], axis=1)\n",
    "y = data['AVG_PRICE_AUCTION'].values.reshape(-1,1)\n",
    "\n",
    "train_size = int(len(data.index) * 0.9)\n",
    "\n",
    "X_train = X.iloc[:train_size]\n",
    "X_test = X.iloc[train_size:]\n",
    "y_train = y[:train_size]\n",
    "y_test = y[train_size:]\n",
    "\n",
    "# scale exogenous variables based on training data\n",
    "scaler_X = StandardScaler().fit(X_train)\n",
    "\n",
    "# transform exogenous variables \n",
    "X_train_scaled = scaler_X.transform(X_train)\n",
    "X_test_scaled = scaler_X.transform(X_test)"
   ]
  },
  {
   "cell_type": "code",
   "execution_count": 4,
   "id": "4c9d6be7",
   "metadata": {},
   "outputs": [
    {
     "name": "stdout",
     "output_type": "stream",
     "text": [
      "Performing stepwise search to minimize bic\n",
      " ARIMA(1,0,1)(0,0,0)[0]             : BIC=2235.318, Time=0.17 sec\n",
      " ARIMA(0,0,0)(0,0,0)[0]             : BIC=4443.145, Time=0.03 sec\n",
      " ARIMA(1,0,0)(0,0,0)[0]             : BIC=inf, Time=0.06 sec\n",
      " ARIMA(0,0,1)(0,0,0)[0]             : BIC=inf, Time=0.07 sec\n",
      " ARIMA(2,0,1)(0,0,0)[0]             : BIC=2241.567, Time=0.21 sec\n",
      " ARIMA(1,0,2)(0,0,0)[0]             : BIC=2241.349, Time=0.24 sec\n",
      " ARIMA(0,0,2)(0,0,0)[0]             : BIC=inf, Time=0.28 sec\n",
      " ARIMA(2,0,0)(0,0,0)[0]             : BIC=inf, Time=0.14 sec\n",
      " ARIMA(2,0,2)(0,0,0)[0]             : BIC=inf, Time=0.26 sec\n",
      " ARIMA(1,0,1)(0,0,0)[0] intercept   : BIC=2299.327, Time=0.22 sec\n",
      "\n",
      "Best model:  ARIMA(1,0,1)(0,0,0)[0]          \n",
      "Total fit time: 1.679 seconds\n"
     ]
    }
   ],
   "source": [
    "# create auto_arima model \n",
    "model = auto_arima(y_train,\n",
    "                  X=X_train_scaled,\n",
    "                  method='lbfgs',\n",
    "                  solver='lbfgs',\n",
    "                  information_criterion='bic',\n",
    "                  start_p=1,\n",
    "                  start_q=1,\n",
    "                  max_p=3,\n",
    "                  max_q=3,\n",
    "                  seasonal=False,\n",
    "                  trace=True,\n",
    "                  error_action='ignore',\n",
    "                  suppress_warnings=True,\n",
    "                  stepwise=True)"
   ]
  }
 ],
 "metadata": {
  "kernelspec": {
   "display_name": "Python 3",
   "language": "python",
   "name": "python3"
  },
  "language_info": {
   "codemirror_mode": {
    "name": "ipython",
    "version": 3
   },
   "file_extension": ".py",
   "mimetype": "text/x-python",
   "name": "python",
   "nbconvert_exporter": "python",
   "pygments_lexer": "ipython3",
   "version": "3.13.2"
  }
 },
 "nbformat": 4,
 "nbformat_minor": 5
}
